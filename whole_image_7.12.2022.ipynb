version https://git-lfs.github.com/spec/v1
oid sha256:10a53a6ba6aaa3767a86ad53a9a47e6f7879912b6efa7e4d7486729f101899cf
size 17767
